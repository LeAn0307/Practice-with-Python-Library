{
 "cells": [
  {
   "cell_type": "markdown",
   "id": "624fb957-25e4-4645-b34a-48d38358153b",
   "metadata": {},
   "source": [
    "# INDIA CENSUS 2011 DATASET\n",
    "\n",
    "This data is about total Population, Demography, Literacy, Districts, States, Workers, Religion, Education, Age.\n",
    "\n",
    "The data used here is of 2011 India Census of each district.\n",
    "\n",
    "This data is available as a CSV file, downloaded from Kaggle.\n",
    "\n",
    "We will analyze this data using the Pandas DataFrame.\n",
    "\n",
    "Here, random sets of quesitons and instrucitons are given for the practice and learning purpose."
   ]
  },
  {
   "cell_type": "code",
   "execution_count": null,
   "id": "9b07c5de-45fc-4741-a9ab-2ca27626212a",
   "metadata": {},
   "outputs": [],
   "source": []
  },
  {
   "cell_type": "markdown",
   "id": "ad9ee0a9-c74f-419a-bdf5-71f56eb8afd3",
   "metadata": {},
   "source": [
    " # 1. How will you hide the indexes of the dataframe."
   ]
  },
  {
   "cell_type": "code",
   "execution_count": null,
   "id": "87e03d52-5ba6-4545-bc43-b6f9216bbbd4",
   "metadata": {},
   "outputs": [],
   "source": []
  },
  {
   "cell_type": "markdown",
   "id": "680d7129-5592-4dc6-a901-550fed2abedf",
   "metadata": {},
   "source": [
    "# 2. How can we set the caption / heading on the dataframe."
   ]
  },
  {
   "cell_type": "code",
   "execution_count": null,
   "id": "0e37a58d-ac29-4e55-ac10-6c6fb824df1d",
   "metadata": {},
   "outputs": [],
   "source": [
    "# df.style.set_caption(\"Caption\")"
   ]
  },
  {
   "cell_type": "code",
   "execution_count": null,
   "id": "d23a72e8-4b52-456f-a096-29b4dffc04d1",
   "metadata": {},
   "outputs": [],
   "source": []
  },
  {
   "cell_type": "markdown",
   "id": "b9675084-ea7e-4b40-a7ed-a3ba72f7ca91",
   "metadata": {},
   "source": [
    "# 3. Show the records related with the districts - New Delhi, Lucknow, Jaipur.\n",
    "\n",
    " "
   ]
  },
  {
   "cell_type": "code",
   "execution_count": null,
   "id": "de42843c-c8b9-40a1-9bcd-d52be8198c81",
   "metadata": {},
   "outputs": [],
   "source": [
    "#df [df[\"col_name'].isin(['Item_1', 'Item_2', 'Item_3'])]"
   ]
  },
  {
   "cell_type": "code",
   "execution_count": null,
   "id": "d75e4bac-50d6-41e8-b20a-2ebf6d280d46",
   "metadata": {},
   "outputs": [],
   "source": []
  },
  {
   "cell_type": "markdown",
   "id": "b3919d1d-cec3-4dee-97f5-9e3d5ef3505e",
   "metadata": {},
   "source": [
    "# 4. Calculate state-wise:\n",
    "\n",
    "# A. Total number of popluation.\n",
    "\n",
    "# B. Total no. of population with different religions."
   ]
  },
  {
   "cell_type": "code",
   "execution_count": null,
   "id": "73bfc178-e5dd-4052-82cc-5e96e77570ad",
   "metadata": {},
   "outputs": [],
   "source": []
  },
  {
   "cell_type": "markdown",
   "id": "06873f58-ae5b-4c68-88c2-bb44815cf187",
   "metadata": {},
   "source": [
    "# 5. How many Male Workers were there in Maharashtra state?"
   ]
  },
  {
   "cell_type": "code",
   "execution_count": null,
   "id": "f654e8f3-1db4-4262-8e25-4e59460863f1",
   "metadata": {},
   "outputs": [],
   "source": [
    "#df [df.col_name_1 'Item']['Col_name_2'].sum()\n",
    "#data[data.State_name 'MAHARASHTRA']['Male_Workers'].sum()\n",
    "\n"
   ]
  },
  {
   "cell_type": "code",
   "execution_count": null,
   "id": "8fd1d72d-a56f-48ec-90a2-d802e7fded99",
   "metadata": {},
   "outputs": [],
   "source": []
  },
  {
   "cell_type": "markdown",
   "id": "027b681b-f258-4eca-a7c8-7cfe44895aa7",
   "metadata": {},
   "source": [
    "# 6. How to set a column as index of the dataframe ?"
   ]
  },
  {
   "cell_type": "code",
   "execution_count": null,
   "id": "2d76afde-ce1e-416c-bd33-36e04b6eb0cc",
   "metadata": {},
   "outputs": [],
   "source": [
    "# df = df.set_index('Col_name')"
   ]
  },
  {
   "cell_type": "code",
   "execution_count": null,
   "id": "9c2d52cf-9c46-4de3-ae0f-a023bb7111b8",
   "metadata": {},
   "outputs": [],
   "source": []
  },
  {
   "cell_type": "markdown",
   "id": "d8a2f992-d4c7-4e9c-bd96-4627de9f3603",
   "metadata": {},
   "source": [
    "# 7a. Add a Suffix to the column names.\n",
    "\n",
    "# 7b. Add a Prefix to the column names.\n",
    "\n"
   ]
  },
  {
   "cell_type": "code",
   "execution_count": null,
   "id": "647d0064-bf6d-4e47-b675-adef822bf83b",
   "metadata": {},
   "outputs": [],
   "source": [
    "#7a. dfdf.add_suffix('_value')"
   ]
  },
  {
   "cell_type": "code",
   "execution_count": null,
   "id": "373ee5ae-1c9c-4950-acba-7fcf6a8d47ba",
   "metadata": {},
   "outputs": [],
   "source": []
  },
  {
   "cell_type": "code",
   "execution_count": null,
   "id": "90e714db-0233-4236-84e7-053c65f6e3c0",
   "metadata": {},
   "outputs": [],
   "source": []
  },
  {
   "cell_type": "code",
   "execution_count": null,
   "id": "228ad90f-d4d4-4f8a-b72a-a29af62f2f9c",
   "metadata": {},
   "outputs": [],
   "source": []
  },
  {
   "cell_type": "code",
   "execution_count": null,
   "id": "2d18e889-1545-490d-a4c7-dcc04fd2c4ef",
   "metadata": {},
   "outputs": [],
   "source": []
  },
  {
   "cell_type": "code",
   "execution_count": null,
   "id": "f66adbc8-c48a-468d-b62f-3dd9ade8e0ec",
   "metadata": {},
   "outputs": [],
   "source": []
  },
  {
   "cell_type": "code",
   "execution_count": null,
   "id": "f5b5c241-bab2-498e-a680-22865c1c1c09",
   "metadata": {},
   "outputs": [],
   "source": []
  },
  {
   "cell_type": "code",
   "execution_count": null,
   "id": "84d1678e-0697-4bae-96ee-116776751251",
   "metadata": {},
   "outputs": [],
   "source": []
  },
  {
   "cell_type": "code",
   "execution_count": null,
   "id": "035f3a35-6b79-4ee7-addf-be58270c0073",
   "metadata": {},
   "outputs": [],
   "source": []
  },
  {
   "cell_type": "code",
   "execution_count": null,
   "id": "96e024f0-2fa6-471d-b09f-c81b02e3ee58",
   "metadata": {},
   "outputs": [],
   "source": []
  },
  {
   "cell_type": "code",
   "execution_count": null,
   "id": "16b37b7a-f771-4258-9fea-e32fc2adf752",
   "metadata": {},
   "outputs": [],
   "source": []
  },
  {
   "cell_type": "code",
   "execution_count": null,
   "id": "35f6cbf4-ef50-4fe2-b5d6-976fc9d192e7",
   "metadata": {},
   "outputs": [],
   "source": []
  },
  {
   "cell_type": "code",
   "execution_count": null,
   "id": "1acb789a-08d4-4a59-9bfa-92d22bcbbd86",
   "metadata": {},
   "outputs": [],
   "source": []
  },
  {
   "cell_type": "code",
   "execution_count": null,
   "id": "e3f10bff-56cf-4f75-802e-be3e81eb4b47",
   "metadata": {},
   "outputs": [],
   "source": []
  },
  {
   "cell_type": "code",
   "execution_count": null,
   "id": "208a0e25-7dcd-497c-8b0f-4374c4e69a91",
   "metadata": {},
   "outputs": [],
   "source": []
  },
  {
   "cell_type": "code",
   "execution_count": null,
   "id": "0fd4ab26-237e-493b-8890-df1fcdb0fd6a",
   "metadata": {},
   "outputs": [],
   "source": []
  },
  {
   "cell_type": "code",
   "execution_count": null,
   "id": "b2324c36-3d2a-49b6-a7cf-ed7b07ca7ace",
   "metadata": {},
   "outputs": [],
   "source": []
  },
  {
   "cell_type": "code",
   "execution_count": null,
   "id": "ff552c07-eedf-4476-8cae-5b2ce4fd0c32",
   "metadata": {},
   "outputs": [],
   "source": []
  },
  {
   "cell_type": "code",
   "execution_count": null,
   "id": "32ab120a-da06-4dff-8c42-81d4f056a7c3",
   "metadata": {},
   "outputs": [],
   "source": []
  }
 ],
 "metadata": {
  "kernelspec": {
   "display_name": "Python 3 (ipykernel)",
   "language": "python",
   "name": "python3"
  },
  "language_info": {
   "codemirror_mode": {
    "name": "ipython",
    "version": 3
   },
   "file_extension": ".py",
   "mimetype": "text/x-python",
   "name": "python",
   "nbconvert_exporter": "python",
   "pygments_lexer": "ipython3",
   "version": "3.12.6"
  }
 },
 "nbformat": 4,
 "nbformat_minor": 5
}
