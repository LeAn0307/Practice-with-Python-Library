{
  "nbformat": 4,
  "nbformat_minor": 0,
  "metadata": {
    "colab": {
      "provenance": [],
      "collapsed_sections": [
        "E0Dks2aw5Y9t",
        "3-8cuEwzmEai"
      ]
    },
    "kernelspec": {
      "name": "python3",
      "display_name": "Python 3"
    },
    "language_info": {
      "name": "python"
    }
  },
  "cells": [
    {
      "cell_type": "code",
      "execution_count": null,
      "metadata": {
        "id": "v7Bz32r_5VZB"
      },
      "outputs": [],
      "source": []
    },
    {
      "cell_type": "markdown",
      "source": [
        "# Series"
      ],
      "metadata": {
        "id": "E0Dks2aw5Y9t"
      }
    },
    {
      "cell_type": "markdown",
      "source": [
        "Series giống như mảng 1 chiều (1D-array)\n",
        "\n",
        "1D-array sẽ trông như thế này: `[1, 2, 3, 4]`\n",
        "\n",
        "Series cũng giống như 1D-array, nhưng cấu trúc của nó phức tạp hơn một chút."
      ],
      "metadata": {
        "id": "rMZDQMZZWwps"
      }
    },
    {
      "cell_type": "markdown",
      "source": [
        "Cú pháp chuyển đổi 1D-array sang Series\n",
        "\n",
        "```python\n",
        "series = pd.Series(array)\n",
        "```"
      ],
      "metadata": {
        "id": "Sd0fGy4kW_dH"
      }
    },
    {
      "cell_type": "code",
      "source": [
        "import pandas as pd"
      ],
      "metadata": {
        "id": "9v4qVjjuXFWu"
      },
      "execution_count": null,
      "outputs": []
    },
    {
      "cell_type": "code",
      "source": [
        "# Chuyển đổi python list (1D-array) sang Series\n",
        "arr = ['Apple', 'Banana', 'Orange']\n",
        "series = pd.Series(arr)\n",
        "\n",
        "print(series)"
      ],
      "metadata": {
        "colab": {
          "base_uri": "https://localhost:8080/"
        },
        "id": "j94C6tJeXGbl",
        "outputId": "7a5dc980-0271-4498-9b33-c113cedcccbd"
      },
      "execution_count": null,
      "outputs": [
        {
          "output_type": "stream",
          "name": "stdout",
          "text": [
            "0     Apple\n",
            "1    Banana\n",
            "2    Orange\n",
            "dtype: object\n"
          ]
        }
      ]
    },
    {
      "cell_type": "code",
      "source": [
        "# Numpy array cũng có thể chuyển đổi được sang Series\n",
        "import numpy as np\n",
        "\n",
        "arr = np.array([1, 2, 3, 4])\n",
        "series = pd.Series(arr)\n",
        "\n",
        "print(series)"
      ],
      "metadata": {
        "colab": {
          "base_uri": "https://localhost:8080/"
        },
        "id": "qEv2Gl1vWiBo",
        "outputId": "75dbb20b-914e-45b5-ca25-a01de9d4a787"
      },
      "execution_count": null,
      "outputs": [
        {
          "output_type": "stream",
          "name": "stdout",
          "text": [
            "0    1\n",
            "1    2\n",
            "2    3\n",
            "3    4\n",
            "dtype: int64\n"
          ]
        }
      ]
    },
    {
      "cell_type": "markdown",
      "source": [
        "Các phần tử của Series sẽ phức tạp hơn phần tử của array bình thường một chút\n",
        "\n",
        "Phần tử của Series sẽ bao gồm một cặp `(index, value)` và tên Series.\n",
        "\n",
        "Giả sử in ra 1 Series, nó hiện như thế này:\n",
        "\n",
        "```\n",
        "0     Apple\n",
        "1    Banana\n",
        "2    Orange\n",
        "dtype: object\n",
        "```\n",
        "\n",
        "- Số 0, 1, 2 là `index`. Nếu không khai báo gì thêm, index sẽ tự tăng dần như thế.\n",
        "- Apple, Banana, Orange là `value`.\n",
        "- Nếu chưa khai báo gì thêm, Series trên không có tên.\n"
      ],
      "metadata": {
        "id": "1IY_1dc0XrPX"
      }
    },
    {
      "cell_type": "markdown",
      "source": [
        "Khai báo đầy đủ thành phần của Series.\n",
        "\n",
        "```python\n",
        "pd.Series([30, 35, 40], index=['2015 Sales', '2016 Sales', '2017 Sales'], name='Annual Sales')\n",
        "```\n",
        "\n",
        "Lúc này, tưởng tượng như trong Excel:\n",
        "- **Index**: Tên hàng\n",
        "- **Value**: Giá trị trong một cột\n",
        "- **Name**: Tên cột\n",
        "\n",
        "|            | Annual Sales |\n",
        "| ---------- | ------------ |\n",
        "| 2015 Sales | 30           |\n",
        "| 2016 Sales | 35           |\n",
        "| 2017 Sales | 40           |"
      ],
      "metadata": {
        "id": "iRic2frvYinI"
      }
    },
    {
      "cell_type": "code",
      "source": [
        "series = pd.Series([30, 35, 40],\n",
        "                   index=['2015 Sales', '2016 Sales', '2017 Sales'],\n",
        "                   name='Annual Sales')\n",
        "\n",
        "print(series)"
      ],
      "metadata": {
        "colab": {
          "base_uri": "https://localhost:8080/"
        },
        "id": "W7mDL0ReYxvG",
        "outputId": "d76d1860-fc6c-4665-9499-90951cf14376"
      },
      "execution_count": null,
      "outputs": [
        {
          "output_type": "stream",
          "name": "stdout",
          "text": [
            "2015 Sales    30\n",
            "2016 Sales    35\n",
            "2017 Sales    40\n",
            "Name: Product A, dtype: int64\n"
          ]
        }
      ]
    },
    {
      "cell_type": "code",
      "source": [
        "series = pd.Series([30, 35, 40],\n",
        "                   index=['2015 Sales', '2016 Sales', '2017 Sales'],\n",
        "                   name='Annual Sales')\n",
        "\n",
        "print(series['2016 Sales'])"
      ],
      "metadata": {
        "colab": {
          "base_uri": "https://localhost:8080/"
        },
        "id": "4J3S01tXZ9t2",
        "outputId": "f399d7a9-aaa6-4f5e-cf93-8bfd3cc72d0e"
      },
      "execution_count": null,
      "outputs": [
        {
          "output_type": "stream",
          "name": "stdout",
          "text": [
            "35\n"
          ]
        }
      ]
    },
    {
      "cell_type": "markdown",
      "source": [
        "Ta có thể khởi tạo 1 Series bằng Dictionary, với key là index."
      ],
      "metadata": {
        "id": "2TadzoR8mXiz"
      }
    },
    {
      "cell_type": "code",
      "source": [
        "annual_sales_dict = {\n",
        "    '2015 Sales': 30,\n",
        "    '2016 Sales': 35,\n",
        "    '2017 Sales': 40\n",
        "}\n",
        "\n",
        "series = pd.Series(annual_sales_dict, name='Annual Sales')\n",
        "\n",
        "print(series)"
      ],
      "metadata": {
        "colab": {
          "base_uri": "https://localhost:8080/"
        },
        "id": "5vFMpyzfmgWS",
        "outputId": "1d314fb0-e4c6-453c-caf7-35192d4dacce"
      },
      "execution_count": null,
      "outputs": [
        {
          "output_type": "stream",
          "name": "stdout",
          "text": [
            "2015 Sales    30\n",
            "2016 Sales    35\n",
            "2017 Sales    40\n",
            "Name: Annual Sales, dtype: int64\n"
          ]
        }
      ]
    },
    {
      "cell_type": "code",
      "source": [
        "series.sum()"
      ],
      "metadata": {
        "colab": {
          "base_uri": "https://localhost:8080/"
        },
        "id": "wFeF3dnHl4l2",
        "outputId": "7fb81438-9f2d-4ae0-906e-2356570c35e3"
      },
      "execution_count": null,
      "outputs": [
        {
          "output_type": "execute_result",
          "data": {
            "text/plain": [
              "105"
            ]
          },
          "metadata": {},
          "execution_count": 8
        }
      ]
    },
    {
      "cell_type": "markdown",
      "source": [
        "# DataFrame"
      ],
      "metadata": {
        "id": "3-8cuEwzmEai"
      }
    },
    {
      "cell_type": "markdown",
      "source": [
        "Nhắc lại về Series:\n",
        "\n",
        "```python\n",
        "data = {\n",
        "    'Name': 30,\n",
        "    'Age': 35,\n",
        "    'City': 40\n",
        "}\n",
        "\n",
        "series = pd.Series(data, name='Poppulation')\n",
        "```\n",
        "\n",
        "Tưởng tượng, 30, 35, 40 sẽ hoá thành 1 cục gì đó\n",
        "\n",
        "```python\n",
        "data = {\n",
        "    'Name': object,\n",
        "    'Age': object,\n",
        "    'City': object\n",
        "}\n",
        "\n",
        "series = pd.Series(data, name='Poppulation')\n",
        "```"
      ],
      "metadata": {
        "id": "HhY_pv-Rni4S"
      }
    },
    {
      "cell_type": "code",
      "source": [
        "data = {\n",
        "    'Name': ['Alice', 'Bob', 'Charlie', 'David', 'Eve'],\n",
        "    'Age': [24, 27, 22, 32, 29],\n",
        "    'City': ['New York', 'Los Angeles', 'Chicago', 'Houston', 'Phoenix']\n",
        "}\n",
        "\n",
        "series = pd.Series(data, name='Poppulation')\n",
        "\n",
        "print(series)\n",
        "print('------------------------------')\n",
        "print(series['Name'])\n",
        "print(series['Name'][0])\n",
        "print('------------------------------')\n",
        "print(series['Age'])\n",
        "# print(series['Age'].sum())  # Error, không thể ứng dụng linh hoạt được"
      ],
      "metadata": {
        "id": "TqFeHCpuoMgr"
      },
      "execution_count": null,
      "outputs": []
    },
    {
      "cell_type": "markdown",
      "source": [
        "| Name    | Age | City        |\n",
        "|---------|-----|-------------|\n",
        "| Alice   | 24  | New York    |\n",
        "| Bob     | 27  | Los Angeles |\n",
        "| Charlie | 22  | Chicago     |\n",
        "| David   | 32  | Houston     |\n",
        "| Eve     | 29  | Phoenix     |"
      ],
      "metadata": {
        "id": "GFAgYTnlpbNL"
      }
    },
    {
      "cell_type": "code",
      "source": [
        "# Tính tổng của cột \"Age\"\n",
        "# print(series['Age'].sum())  # Error, không thể ứng dụng linh hoạt được\n",
        "\n",
        "# Lấy ra row thứ 3\n",
        "# ??????? Huhu"
      ],
      "metadata": {
        "id": "hMZHHvihpfA7"
      },
      "execution_count": null,
      "outputs": []
    },
    {
      "cell_type": "markdown",
      "source": [
        "Đã đến lúc sử dụng 1 thứ hay ho hơn, đó là **DataFrame**."
      ],
      "metadata": {
        "id": "dR_DaLd6qFAF"
      }
    },
    {
      "cell_type": "markdown",
      "source": [
        "**DataFrame** giống như mảng 2 chiều (2D-array)\n",
        "\n",
        "2D-array sẽ có dạng trông như thế này\n",
        "\n",
        "```python\n",
        "[\n",
        "  [1, 2, 3],\n",
        "  [4, 5, 6],\n",
        "  [7, 8, 9]\n",
        "]\n",
        "```"
      ],
      "metadata": {
        "id": "uMOgsBtXmHCZ"
      }
    },
    {
      "cell_type": "code",
      "source": [
        "import pandas as pd\n",
        "\n",
        "sample_2d_arr = [\n",
        "  [1, 2, 3],\n",
        "  [4, 5, 6],\n",
        "  [7, 8, 9]\n",
        "]\n",
        "\n",
        "df = pd.DataFrame(sample_2d_arr)\n",
        "\n",
        "print(df)"
      ],
      "metadata": {
        "colab": {
          "base_uri": "https://localhost:8080/"
        },
        "id": "v7mkfr6RnHHy",
        "outputId": "4839155e-c800-4f30-e1e8-fe1886aed05a"
      },
      "execution_count": null,
      "outputs": [
        {
          "output_type": "stream",
          "name": "stdout",
          "text": [
            "   0  1  2\n",
            "0  1  2  3\n",
            "1  4  5  6\n",
            "2  7  8  9\n"
          ]
        }
      ]
    },
    {
      "cell_type": "markdown",
      "source": [
        "| Name    | Age | City        |\n",
        "|---------|-----|-------------|\n",
        "| Alice   | 24  | New York    |\n",
        "| Bob     | 27  | Los Angeles |\n",
        "| Charlie | 22  | Chicago     |\n",
        "| David   | 32  | Houston     |\n",
        "| Eve     | 29  | Phoenix     |"
      ],
      "metadata": {
        "id": "wGJitdT3qbd0"
      }
    },
    {
      "cell_type": "code",
      "source": [
        "# Trong Python Dictionary, hoặc JSON. Mỗi cặp key-value sẽ ứng với name-value\n",
        "# 'Age': [24, 27, 22, 32, 29]\n",
        "# Tương đương với\n",
        "# series = pd.Series([24, 27, 22, 32, 29], name='Age')\n",
        "data = {\n",
        "    'Name': ['Alice', 'Bob', 'Charlie', 'David', 'Eve'],\n",
        "    'Age': [24, 27, 22, 32, 29],\n",
        "    'City': ['New York', 'Los Angeles', 'Chicago', 'Houston', 'Phoenix']\n",
        "}\n",
        "\n",
        "df = pd.DataFrame(data)\n",
        "\n",
        "print(df)\n",
        "\n",
        "# Còn index thì sao nhỉ =))"
      ],
      "metadata": {
        "colab": {
          "base_uri": "https://localhost:8080/"
        },
        "id": "UvX93vqqnBJC",
        "outputId": "f8c4ed35-a5e7-444e-ae68-6822e29b849a"
      },
      "execution_count": null,
      "outputs": [
        {
          "output_type": "stream",
          "name": "stdout",
          "text": [
            "      Name  Age         City\n",
            "0    Alice   24     New York\n",
            "1      Bob   27  Los Angeles\n",
            "2  Charlie   22      Chicago\n",
            "3    David   32      Houston\n",
            "4      Eve   29      Phoenix\n"
          ]
        }
      ]
    },
    {
      "cell_type": "markdown",
      "source": [
        "Các Series trong DataFrame sẽ sử dụng chung index với nhau cho cả DataFrame.\n",
        "\n"
      ],
      "metadata": {
        "id": "2SO5Rj6-rDrj"
      }
    },
    {
      "cell_type": "code",
      "source": [
        "data = {\n",
        "    'Name': ['Alice', 'Bob', 'Charlie', 'David', 'Eve'],\n",
        "    'Age': [24, 27, 22, 32, 29],\n",
        "    'City': ['New York', 'Los Angeles', 'Chicago', 'Houston', 'Phoenix']\n",
        "}\n",
        "\n",
        "df = pd.DataFrame(data, index=['A', 'B', 'C', 'D', 'E'])\n",
        "\n",
        "print(df)\n",
        "print('----------------------')\n",
        "print(df['Name']['A'])\n",
        "print(df['Age']['C'])\n",
        "print(df['City']['E'])"
      ],
      "metadata": {
        "colab": {
          "base_uri": "https://localhost:8080/"
        },
        "id": "C3OZvjKIq-Fb",
        "outputId": "66e0c66a-eb73-4880-c98c-b5543cc45402"
      },
      "execution_count": null,
      "outputs": [
        {
          "output_type": "stream",
          "name": "stdout",
          "text": [
            "      Name  Age         City\n",
            "A    Alice   24     New York\n",
            "B      Bob   27  Los Angeles\n",
            "C  Charlie   22      Chicago\n",
            "D    David   32      Houston\n",
            "E      Eve   29      Phoenix\n",
            "----------------------\n",
            "Alice\n",
            "22\n",
            "Phoenix\n"
          ]
        }
      ]
    },
    {
      "cell_type": "markdown",
      "source": [
        "Nếu lười quá thì có thể sử dụng đại 1 cột nào đó, làm index đại diện"
      ],
      "metadata": {
        "id": "BxzTAdmNr1Zb"
      }
    },
    {
      "cell_type": "code",
      "source": [
        "data = {\n",
        "    'Name': ['Alice', 'Bob', 'Charlie', 'David', 'Eve'],\n",
        "    'Age': [24, 27, 22, 32, 29],\n",
        "    'City': ['New York', 'Los Angeles', 'Chicago', 'Houston', 'Phoenix']\n",
        "}\n",
        "\n",
        "df = pd.DataFrame(data)\n",
        "df = df.set_index('Name')\n",
        "\n",
        "print(df)\n",
        "print('----------------------')\n",
        "print(df['Age']['Alice'])\n",
        "print(df['City']['Charlie'])"
      ],
      "metadata": {
        "colab": {
          "base_uri": "https://localhost:8080/"
        },
        "id": "E1nZd47Or6Tb",
        "outputId": "5421962a-e319-4796-8d8a-797bd37982a1"
      },
      "execution_count": null,
      "outputs": [
        {
          "output_type": "stream",
          "name": "stdout",
          "text": [
            "         Age         City\n",
            "Name                     \n",
            "Alice     24     New York\n",
            "Bob       27  Los Angeles\n",
            "Charlie   22      Chicago\n",
            "David     32      Houston\n",
            "Eve       29      Phoenix\n",
            "----------------------\n",
            "24\n",
            "Chicago\n"
          ]
        }
      ]
    },
    {
      "cell_type": "code",
      "source": [
        "print(df['Age'].sum())"
      ],
      "metadata": {
        "colab": {
          "base_uri": "https://localhost:8080/"
        },
        "id": "ZZqNDXc-rtNU",
        "outputId": "dba2becc-a8ea-429c-d804-2bbdc7d36f5c"
      },
      "execution_count": null,
      "outputs": [
        {
          "output_type": "stream",
          "name": "stdout",
          "text": [
            "134\n"
          ]
        }
      ]
    },
    {
      "cell_type": "code",
      "source": [
        "data = {\n",
        "    'Name': ['Alice', 'Bob', 'Charlie', 'David', 'Eve'],\n",
        "    'Age': [24, 27, 22, 32, 29],\n",
        "    'City': ['New York', 'Los Angeles', 'Chicago', 'Houston', 'Phoenix']\n",
        "}\n",
        "\n",
        "df = pd.DataFrame(data)\n",
        "df = df.set_index('Name')\n",
        "\n",
        "print(df.iloc[0])\n",
        "print('----------------------')\n",
        "print(df.loc['Alice'])\n",
        "print('----------------------')\n",
        "print(df.iloc[0, 1])\n",
        "print('----------------------')\n",
        "print(df.loc['Alice', 'City'])"
      ],
      "metadata": {
        "colab": {
          "base_uri": "https://localhost:8080/"
        },
        "id": "8OLiV4u4trGU",
        "outputId": "aaf92247-25b5-4971-8583-d53d425dc45a"
      },
      "execution_count": null,
      "outputs": [
        {
          "output_type": "stream",
          "name": "stdout",
          "text": [
            "Age           24\n",
            "City    New York\n",
            "Name: Alice, dtype: object\n",
            "----------------------\n",
            "Age           24\n",
            "City    New York\n",
            "Name: Alice, dtype: object\n",
            "----------------------\n",
            "New York\n",
            "----------------------\n",
            "New York\n",
            "<class 'str'>\n"
          ]
        }
      ]
    },
    {
      "cell_type": "code",
      "source": [
        "data = {\n",
        "    'Name': ['Alice', 'Bob', 'Charlie', 'David', 'Eve'],\n",
        "    'Age': [24, 27, 22, 32, 29],\n",
        "    'City': ['New York', 'Los Angeles', 'Chicago', 'Houston', 'Phoenix']\n",
        "}\n",
        "\n",
        "df = pd.DataFrame(data)\n",
        "df = df.set_index('Name')\n",
        "\n",
        "print(df.iloc[[0, 1]])\n",
        "print(type(df.iloc[[0, 1]]))\n",
        "print('----------------------')\n",
        "print(df.loc[['Alice', 'Bob']])\n",
        "print(type(df.loc[['Alice', 'Bob']]))\n",
        "print('----------------------')\n",
        "print(df.iloc[[0, 1], 1])\n",
        "print(type(df.iloc[[0, 1], 1]))\n",
        "print('----------------------')\n",
        "print(df.loc[['Alice', 'Bob'], 'Age'])\n",
        "print(type(df.loc[['Alice', 'Bob'], 'Age']))"
      ],
      "metadata": {
        "colab": {
          "base_uri": "https://localhost:8080/"
        },
        "id": "BTlJA4pzunHd",
        "outputId": "2aadefc9-9958-4d7f-856f-5c3acd94323a"
      },
      "execution_count": null,
      "outputs": [
        {
          "output_type": "stream",
          "name": "stdout",
          "text": [
            "       Age         City\n",
            "Name                   \n",
            "Alice   24     New York\n",
            "Bob     27  Los Angeles\n",
            "<class 'pandas.core.frame.DataFrame'>\n",
            "----------------------\n",
            "       Age         City\n",
            "Name                   \n",
            "Alice   24     New York\n",
            "Bob     27  Los Angeles\n",
            "<class 'pandas.core.frame.DataFrame'>\n",
            "----------------------\n",
            "Name\n",
            "Alice       New York\n",
            "Bob      Los Angeles\n",
            "Name: City, dtype: object\n",
            "<class 'pandas.core.series.Series'>\n",
            "----------------------\n",
            "Name\n",
            "Alice    24\n",
            "Bob      27\n",
            "Name: Age, dtype: int64\n",
            "<class 'pandas.core.series.Series'>\n"
          ]
        }
      ]
    },
    {
      "cell_type": "code",
      "source": [
        "data = {\n",
        "    'Name': ['Alice', 'Bob', 'Charlie', 'David', 'Eve'],\n",
        "    'Age': [24, 27, 22, 32, 29],\n",
        "    'City': ['New York', 'Los Angeles', 'Chicago', 'Houston', 'Phoenix']\n",
        "}\n",
        "\n",
        "df = pd.DataFrame(data)\n",
        "\n",
        "print(df['Age'])\n",
        "print(type(df['Age']))\n",
        "print('----------------------')\n",
        "print(df[['Age']])\n",
        "print(type(df[['Age']]))\n",
        "print('----------------------')\n",
        "print(df[['Age', 'City']])\n",
        "print(type(df[['Age', 'City']]))"
      ],
      "metadata": {
        "colab": {
          "base_uri": "https://localhost:8080/"
        },
        "id": "3yLHKa4xsnll",
        "outputId": "275da610-3648-4a76-9097-b402eeb19d1b"
      },
      "execution_count": null,
      "outputs": [
        {
          "output_type": "stream",
          "name": "stdout",
          "text": [
            "0    24\n",
            "1    27\n",
            "2    22\n",
            "3    32\n",
            "4    29\n",
            "Name: Age, dtype: int64\n",
            "<class 'pandas.core.series.Series'>\n",
            "----------------------\n",
            "   Age\n",
            "0   24\n",
            "1   27\n",
            "2   22\n",
            "3   32\n",
            "4   29\n",
            "<class 'pandas.core.frame.DataFrame'>\n",
            "----------------------\n",
            "   Age         City\n",
            "0   24     New York\n",
            "1   27  Los Angeles\n",
            "2   22      Chicago\n",
            "3   32      Houston\n",
            "4   29      Phoenix\n",
            "<class 'pandas.core.frame.DataFrame'>\n"
          ]
        }
      ]
    },
    {
      "cell_type": "markdown",
      "source": [
        "# Group By"
      ],
      "metadata": {
        "id": "8LjZ4wU325NV"
      }
    },
    {
      "cell_type": "markdown",
      "source": [
        "Những hàm liên quan tính toán: `sum(), count(), mean()`.\n",
        "\n",
        "Đối với những hàm trên, nếu:\n",
        "- Không có `groupby()`: Index sẽ là tên cột\n",
        "- Có `groupby()`: Index sẽ là những giá trị đã nhóm\n",
        "\n",
        "Ví dụ:\n",
        "\n",
        "| Visibility_km | Press_kPa | Weather |\n",
        "|---------------|-----------|---------|\n",
        "|           8.0 | 101.27    | Fog     |\n",
        "|           4.0 | 101.23    | Snow    |\n",
        "|           9.7 |    101.24 | Fog     |\n",
        "\n",
        "Nếu thực thi câu lệnh\n",
        "\n",
        "```python\n",
        "data.count()\n",
        "```\n",
        "|               | 0 |\n",
        "|---------------|---|\n",
        "| Visibility_km | 3 |\n",
        "|     Press_kPa | 3 |\n",
        "|       Weather | 3 |\n",
        "\n",
        "```python\n",
        "data.groupby('Weather').count()\n",
        "```\n",
        "|      | Visibility_km | Press_kPa |\n",
        "|------|---------------|-----------|\n",
        "| Fog  | 2             | 2         |\n",
        "| Snow | 1             | 1         |\n",
        "\n",
        "\n",
        "Nếu thực hiện các phép tính dựa trên những cột mang giá trị \"String\" thì nó sẽ cố gắng làm một thứ gì đó để thay thế, như cộng chuỗi hoặc thứ gì đó.\n",
        "\n",
        "Nhưng nếu không thể tính toán được, ví dụ hàm `mean()` thì sẽ báo lỗi"
      ],
      "metadata": {
        "id": "pumv5d6m2-tV"
      }
    },
    {
      "cell_type": "code",
      "source": [
        "# Group By"
      ],
      "metadata": {
        "id": "ZXJh_wLa2yV2"
      },
      "execution_count": null,
      "outputs": []
    },
    {
      "cell_type": "markdown",
      "source": [],
      "metadata": {
        "id": "Z0kMFkIq6W9G"
      }
    },
    {
      "cell_type": "code",
      "source": [],
      "metadata": {
        "id": "UaFgYHiW3sT1"
      },
      "execution_count": null,
      "outputs": []
    }
  ]
}