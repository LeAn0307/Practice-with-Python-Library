{
 "cells": [
  {
   "cell_type": "markdown",
   "id": "7f539076-82d2-4b0b-9964-21931e3ae188",
   "metadata": {},
   "source": [
    "# LONDON HOUSING DATASET\n",
    "\n",
    "This dataset is primarily centered around the housing market of London. It contains a lot of additional relevant data:\n",
    "\n",
    "• Monthly average house prices\n",
    "\n",
    "• Yearly number of houses sold\n",
    "\n",
    "• Monthly number of crimes committed\n",
    "\n",
    "The data used here is from year 1995 to 2019 of each different area.\n",
    "\n",
    "This data is available as a CSV file, downloaded from Kaggle.\n",
    "\n",
    "We will analyze this data using the Pandas DanaFrame.\n",
    "\n",
    "Here, random sets of quesitons are given for which we have to find correct results.\n",
    "\n",
    "This project is for beginners and for those who want to know how we analyze big data with Python."
   ]
  },
  {
   "cell_type": "markdown",
   "id": "4809b00c-2732-4527-9426-8a4ad9690dd4",
   "metadata": {},
   "source": [
    "## (A) Convert the Datatype of 'Date' column to Date-Time format.\n",
    "\n",
    "\n",
    " "
   ]
  },
  {
   "cell_type": "code",
   "execution_count": null,
   "id": "3c01c531-6f5a-489d-aa32-34bd739c8977",
   "metadata": {},
   "outputs": [],
   "source": [
    "#data.dtypes\n",
    "#data.date pd.to_datetime(data.date)\n",
    " "
   ]
  },
  {
   "cell_type": "code",
   "execution_count": null,
   "id": "a23e935e-5919-4221-9731-9e1ea8eb5b29",
   "metadata": {},
   "outputs": [],
   "source": [
    " \n",
    " "
   ]
  },
  {
   "cell_type": "markdown",
   "id": "24231ef0-9487-45b8-9129-b23ffd9ef34d",
   "metadata": {},
   "source": [
    "## (B.1) Add a new column \"year\" in the dataframe, which contains years only."
   ]
  },
  {
   "cell_type": "code",
   "execution_count": null,
   "id": "df551428-e51a-4e00-9489-faceb36d3d3b",
   "metadata": {},
   "outputs": [],
   "source": [
    "# data['New_Column'] = df.Date_Column.dt.year\n"
   ]
  },
  {
   "cell_type": "code",
   "execution_count": null,
   "id": "e46d7ea0-cc69-4127-a13b-6719cf485034",
   "metadata": {},
   "outputs": [],
   "source": [
    " "
   ]
  },
  {
   "cell_type": "markdown",
   "id": "aebd3112-dae8-43c2-9dad-ce6fa6c5446c",
   "metadata": {},
   "source": [
    "## (B.2) Add a new column \"month\" as 2nd column in the dataframe, which contains month only.\n",
    "\n"
   ]
  },
  {
   "cell_type": "code",
   "execution_count": null,
   "id": "bd896c1a-678b-456c-b8d6-42218e73b941",
   "metadata": {},
   "outputs": [],
   "source": [
    "# df.insert(index, 'new_column_name', new_column_values)\n",
    "\n",
    "# data.insert (2, 'month', data.date.dt.month)\n"
   ]
  },
  {
   "cell_type": "code",
   "execution_count": null,
   "id": "267f08a8-42f9-437c-9879-37e468c2ec85",
   "metadata": {},
   "outputs": [],
   "source": [
    " "
   ]
  },
  {
   "cell_type": "code",
   "execution_count": null,
   "id": "a31ff9c6-1a93-4e20-b3ba-fb8ea8374f95",
   "metadata": {},
   "outputs": [],
   "source": []
  },
  {
   "cell_type": "code",
   "execution_count": null,
   "id": "b2bd0a8c-1581-4fb5-8c43-2725fa2b0db4",
   "metadata": {},
   "outputs": [],
   "source": []
  },
  {
   "cell_type": "code",
   "execution_count": null,
   "id": "6133b3bd-8813-4f1b-9dea-425742318ff4",
   "metadata": {},
   "outputs": [],
   "source": []
  },
  {
   "cell_type": "code",
   "execution_count": null,
   "id": "ba64c66b-0d05-4454-865c-210761a9d731",
   "metadata": {},
   "outputs": [],
   "source": []
  },
  {
   "cell_type": "code",
   "execution_count": null,
   "id": "b91987c0-6796-4c93-b2c8-056cddc8f4a7",
   "metadata": {},
   "outputs": [],
   "source": []
  },
  {
   "cell_type": "code",
   "execution_count": null,
   "id": "bc499e5a-3b9b-4737-b950-7ae3b32e1d8b",
   "metadata": {},
   "outputs": [],
   "source": []
  },
  {
   "cell_type": "code",
   "execution_count": null,
   "id": "304d0487-301c-4c59-946d-16067f818a83",
   "metadata": {},
   "outputs": [],
   "source": []
  },
  {
   "cell_type": "code",
   "execution_count": null,
   "id": "04284efe-83a2-4eb7-ae8f-dbffb256453a",
   "metadata": {},
   "outputs": [],
   "source": []
  },
  {
   "cell_type": "code",
   "execution_count": null,
   "id": "ecef115f-efee-4bd5-92f4-cd4efc9465e3",
   "metadata": {},
   "outputs": [],
   "source": []
  },
  {
   "cell_type": "code",
   "execution_count": null,
   "id": "83b9d378-5f9f-463e-b70c-78c19935d7a7",
   "metadata": {},
   "outputs": [],
   "source": []
  },
  {
   "cell_type": "code",
   "execution_count": null,
   "id": "29121673-e89f-4303-8145-42127294dfe2",
   "metadata": {},
   "outputs": [],
   "source": []
  },
  {
   "cell_type": "code",
   "execution_count": null,
   "id": "e90875ea-02a5-4ad5-8089-8f9f36c87c87",
   "metadata": {},
   "outputs": [],
   "source": []
  },
  {
   "cell_type": "code",
   "execution_count": null,
   "id": "d653f70b-ba59-4729-baa4-a692dd7e265b",
   "metadata": {},
   "outputs": [],
   "source": []
  },
  {
   "cell_type": "code",
   "execution_count": null,
   "id": "dca7c462-3f63-4d48-add5-39fd46c82c70",
   "metadata": {},
   "outputs": [],
   "source": []
  },
  {
   "cell_type": "code",
   "execution_count": null,
   "id": "dbff1190-d1f2-4eba-97f5-90efeb7a6727",
   "metadata": {},
   "outputs": [],
   "source": []
  }
 ],
 "metadata": {
  "kernelspec": {
   "display_name": "Python 3 (ipykernel)",
   "language": "python",
   "name": "python3"
  },
  "language_info": {
   "codemirror_mode": {
    "name": "ipython",
    "version": 3
   },
   "file_extension": ".py",
   "mimetype": "text/x-python",
   "name": "python",
   "nbconvert_exporter": "python",
   "pygments_lexer": "ipython3",
   "version": "3.12.6"
  }
 },
 "nbformat": 4,
 "nbformat_minor": 5
}
