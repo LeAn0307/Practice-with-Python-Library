{
 "cells": [
  {
   "cell_type": "code",
   "execution_count": null,
   "id": "588d535c-8d3a-44f9-929d-78347b137767",
   "metadata": {},
   "outputs": [],
   "source": [
    "# series: \n",
    "xem như là mảng 1 chiều "
   ]
  },
  {
   "cell_type": "code",
   "execution_count": 1,
   "id": "066db5b4-6e98-4bb9-be33-3b529a22dd17",
   "metadata": {},
   "outputs": [
    {
     "data": {
      "text/plain": [
       "np.float64(13.48925788)"
      ]
     },
     "execution_count": 1,
     "metadata": {},
     "output_type": "execute_result"
    }
   ],
   "source": [
    "import pandas as pd\n",
    "\n",
    "arr = pd.Series([0.27381184, 0.6045029 , 0.97970339, 0.00713898, 0.9180664 ,\n",
    "       0.50645883, 0.00890963, 0.92917459, 0.15957861, 0.02757408,\n",
    "       0.15917604, 0.25211308, 0.51200485, 0.80773407, 0.92456688,\n",
    "       0.253595  , 0.72720539, 0.63909987, 0.19508768, 0.17153339,\n",
    "       0.89644349, 0.89907643, 0.61413008, 0.14103405, 0.14319964,\n",
    "       0.67291008, 0.47286009, 0.27248135, 0.08567988, 0.23440729])\n",
    "arr.sum()"
   ]
  },
  {
   "cell_type": "code",
   "execution_count": null,
   "id": "63a9598c-7800-42ad-8309-211e40e5d7e7",
   "metadata": {},
   "outputs": [],
   "source": [
    "# DFrame"
   ]
  },
  {
   "cell_type": "code",
   "execution_count": null,
   "id": "1fd10b75-2c81-4f42-8007-8535f5c7ef03",
   "metadata": {},
   "outputs": [],
   "source": []
  }
 ],
 "metadata": {
  "kernelspec": {
   "display_name": "Python 3 (ipykernel)",
   "language": "python",
   "name": "python3"
  },
  "language_info": {
   "codemirror_mode": {
    "name": "ipython",
    "version": 3
   },
   "file_extension": ".py",
   "mimetype": "text/x-python",
   "name": "python",
   "nbconvert_exporter": "python",
   "pygments_lexer": "ipython3",
   "version": "3.12.6"
  }
 },
 "nbformat": 4,
 "nbformat_minor": 5
}
