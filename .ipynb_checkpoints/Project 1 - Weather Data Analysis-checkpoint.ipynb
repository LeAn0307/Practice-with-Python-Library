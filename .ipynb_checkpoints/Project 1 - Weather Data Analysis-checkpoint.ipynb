{
 "cells": [
  {
   "cell_type": "markdown",
   "id": "8fca2859-cd65-451b-9c0e-41acaacf8cea",
   "metadata": {},
   "source": [
    "# The Weather Dataset\n",
    "\n",
    "Here, The Weather Dataset is a time-series data set with per-hour information about the weather conditions at a particular location. It records Temperature, Dew Point Temperature, Relative Humidity, Wind Speed, Visibility, Pressure, and Conditions.\n",
    "\n",
    "This data is available as a CSV file. We are going to ahalyze this data set using the Pandas DataFrame."
   ]
  },
  {
   "cell_type": "code",
   "execution_count": 76,
   "id": "66d4f559-4e49-4ff1-86a2-adeda0a0a7ac",
   "metadata": {},
   "outputs": [],
   "source": [
    "import pandas as pd"
   ]
  },
  {
   "cell_type": "code",
   "execution_count": 77,
   "id": "5338749b-712d-4cc8-98a5-0e631fabcddc",
   "metadata": {},
   "outputs": [],
   "source": [
    "data = pd.read_csv(r\"E:\\4.Python\\6. Pandas project\\dataset1_wheather.csv\")"
   ]
  },
  {
   "cell_type": "code",
   "execution_count": null,
   "id": "420bd1bd-af2a-47a0-aee5-c9a0555d011a",
   "metadata": {},
   "outputs": [],
   "source": [
    "data"
   ]
  },
  {
   "cell_type": "markdown",
   "id": "54b7a9aa-d093-4f02-861f-d52388139e5c",
   "metadata": {},
   "source": [
    "# How to Analyze DataFrame?"
   ]
  },
  {
   "cell_type": "markdown",
   "id": "70c9b33e-5859-4437-91a9-25fd08ed9b42",
   "metadata": {},
   "source": [
    "## .head() :\n",
    "It shows the first N rows in the data (by default, N=5)"
   ]
  },
  {
   "cell_type": "code",
   "execution_count": null,
   "id": "803e6309-1f71-4c37-a216-cd44299ab003",
   "metadata": {},
   "outputs": [],
   "source": [
    "data.head()\n",
    "# data.head(10)"
   ]
  },
  {
   "cell_type": "markdown",
   "id": "4faf6ea3-2f0a-4a39-b20e-4bb0231c6185",
   "metadata": {},
   "source": [
    "## .shape\n",
    "It shows the total no. of rows and no. of colums of the DataFrame"
   ]
  },
  {
   "cell_type": "code",
   "execution_count": null,
   "id": "d356f72b-5c2e-4f5d-9919-453e7362439e",
   "metadata": {},
   "outputs": [],
   "source": [
    "data.shape"
   ]
  },
  {
   "cell_type": "markdown",
   "id": "13ec230b-7191-4c2e-8664-86de2d9fd47e",
   "metadata": {},
   "source": [
    "# .index\n",
    "This attribute provides the index of the dataframe "
   ]
  },
  {
   "cell_type": "code",
   "execution_count": null,
   "id": "86fe32c0-f228-438d-a2f5-29ecdfe895dc",
   "metadata": {},
   "outputs": [],
   "source": [
    "data.index"
   ]
  },
  {
   "cell_type": "markdown",
   "id": "5a63b0c2-57f4-46a4-a805-c921245890e0",
   "metadata": {},
   "source": [
    "# .columns\n",
    "It shows the name of ech column "
   ]
  },
  {
   "cell_type": "code",
   "execution_count": 78,
   "id": "634ac85e-1a13-441d-b38e-0282efc5f80e",
   "metadata": {},
   "outputs": [
    {
     "data": {
      "text/plain": [
       "Index(['Date/Time', 'Temp_C', 'Dew Point Temp_C', 'Rel Hum_%',\n",
       "       'Wind Speed_km/h', 'Visibility_km', 'Press_kPa', 'Weather'],\n",
       "      dtype='object')"
      ]
     },
     "execution_count": 78,
     "metadata": {},
     "output_type": "execute_result"
    }
   ],
   "source": [
    "data.columns"
   ]
  },
  {
   "cell_type": "markdown",
   "id": "e07c097d-6215-4eba-aa28-bfcb68654ec1",
   "metadata": {},
   "source": [
    "# .dtypes\n",
    "It shows the data-types of each column "
   ]
  },
  {
   "cell_type": "code",
   "execution_count": 79,
   "id": "6e79fa1b-8172-42eb-b592-17aede84885f",
   "metadata": {},
   "outputs": [
    {
     "data": {
      "text/plain": [
       "Date/Time            object\n",
       "Temp_C              float64\n",
       "Dew Point Temp_C    float64\n",
       "Rel Hum_%             int64\n",
       "Wind Speed_km/h       int64\n",
       "Visibility_km       float64\n",
       "Press_kPa           float64\n",
       "Weather              object\n",
       "dtype: object"
      ]
     },
     "execution_count": 79,
     "metadata": {},
     "output_type": "execute_result"
    }
   ],
   "source": [
    "data.dtypes"
   ]
  },
  {
   "cell_type": "markdown",
   "id": "f62fdf95-e9b8-4e00-ba72-1684513751ad",
   "metadata": {},
   "source": [
    "# .unique()\n",
    "In a column. its shows all the unique values. It can be applied on a single column only, not on the whole dataframe"
   ]
  },
  {
   "cell_type": "code",
   "execution_count": 80,
   "id": "40285fe1-a6df-4e89-87d0-90c361c90f25",
   "metadata": {},
   "outputs": [
    {
     "data": {
      "text/plain": [
       "array(['Fog', 'Freezing Drizzle,Fog', 'Mostly Cloudy', 'Cloudy', 'Rain',\n",
       "       'Rain Showers', 'Mainly Clear', 'Snow Showers', 'Snow', 'Clear',\n",
       "       'Freezing Rain,Fog', 'Freezing Rain', 'Freezing Drizzle',\n",
       "       'Rain,Snow', 'Moderate Snow', 'Freezing Drizzle,Snow',\n",
       "       'Freezing Rain,Snow Grains', 'Snow,Blowing Snow', 'Freezing Fog',\n",
       "       'Haze', 'Rain,Fog', 'Drizzle,Fog', 'Drizzle',\n",
       "       'Freezing Drizzle,Haze', 'Freezing Rain,Haze', 'Snow,Haze',\n",
       "       'Snow,Fog', 'Snow,Ice Pellets', 'Rain,Haze', 'Thunderstorms,Rain',\n",
       "       'Thunderstorms,Rain Showers', 'Thunderstorms,Heavy Rain Showers',\n",
       "       'Thunderstorms,Rain Showers,Fog', 'Thunderstorms',\n",
       "       'Thunderstorms,Rain,Fog',\n",
       "       'Thunderstorms,Moderate Rain Showers,Fog', 'Rain Showers,Fog',\n",
       "       'Rain Showers,Snow Showers', 'Snow Pellets', 'Rain,Snow,Fog',\n",
       "       'Moderate Rain,Fog', 'Freezing Rain,Ice Pellets,Fog',\n",
       "       'Drizzle,Ice Pellets,Fog', 'Drizzle,Snow', 'Rain,Ice Pellets',\n",
       "       'Drizzle,Snow,Fog', 'Rain,Snow Grains', 'Rain,Snow,Ice Pellets',\n",
       "       'Snow Showers,Fog', 'Moderate Snow,Blowing Snow'], dtype=object)"
      ]
     },
     "execution_count": 80,
     "metadata": {},
     "output_type": "execute_result"
    }
   ],
   "source": [
    "data['Weather'].unique()"
   ]
  },
  {
   "cell_type": "markdown",
   "id": "36c8fe79-3132-4370-b578-e36d967f536f",
   "metadata": {},
   "source": [
    "# .nunique()\n",
    "It shows the total no. of unique values in each column. It can be applied on a single column as well as on whole dataframe."
   ]
  },
  {
   "cell_type": "code",
   "execution_count": null,
   "id": "427b777a-8709-458d-9632-e71b25eaa05c",
   "metadata": {},
   "outputs": [],
   "source": [
    "data.nunique()"
   ]
  },
  {
   "cell_type": "markdown",
   "id": "d7f02621-6172-4fcf-a379-264a011e9240",
   "metadata": {},
   "source": [
    "# .count\n",
    "\n",
    "It shows the total no. of non-null in each column. It can be applied on a single column as well as on whole dataframe.\n",
    "\n",
    "\n"
   ]
  },
  {
   "cell_type": "code",
   "execution_count": null,
   "id": "d00893a8-8b76-4698-a267-5cfff41aa990",
   "metadata": {},
   "outputs": [],
   "source": [
    "data.count()"
   ]
  },
  {
   "cell_type": "markdown",
   "id": "2d471b27-72cf-48ca-b532-1aa007eb46cf",
   "metadata": {},
   "source": [
    "# .value_counts\n",
    "\n",
    "In a column, it shows all the unique values with their count. It can be applied on single column only.\n"
   ]
  },
  {
   "cell_type": "code",
   "execution_count": null,
   "id": "45601395-f2e1-4acb-832d-b2909621be7f",
   "metadata": {},
   "outputs": [],
   "source": [
    "data['Weather'].value_counts()\n"
   ]
  },
  {
   "cell_type": "markdown",
   "id": "e4a00596-9fea-4187-93e9-e1b8bdb8bd47",
   "metadata": {},
   "source": [
    "# .info()\n",
    "\n",
    "Provides basic information about the dataframe."
   ]
  },
  {
   "cell_type": "code",
   "execution_count": null,
   "id": "c215e803-7d5c-4dce-b617-692c61d9fa46",
   "metadata": {},
   "outputs": [],
   "source": [
    "data.info()"
   ]
  },
  {
   "cell_type": "markdown",
   "id": "61dd00f8-e6a8-4f4c-a404-7fabfd987066",
   "metadata": {},
   "source": [
    "# Q) 1. Find all the unique 'Wind Speed' values in the data.\n"
   ]
  },
  {
   "cell_type": "code",
   "execution_count": null,
   "id": "139b05b8-2b4a-4980-ad6d-51a0a36ae041",
   "metadata": {},
   "outputs": [],
   "source": [
    "data.head(2)"
   ]
  },
  {
   "cell_type": "code",
   "execution_count": null,
   "id": "2bc52212-a382-48e3-99e3-a418d8349bfb",
   "metadata": {},
   "outputs": [],
   "source": [
    "data.nunique()"
   ]
  },
  {
   "cell_type": "code",
   "execution_count": null,
   "id": "632b0ebc-7bd9-461f-8357-7373cc91b916",
   "metadata": {},
   "outputs": [],
   "source": [
    "data['Wind Speed_km/h'].nunique()"
   ]
  },
  {
   "cell_type": "code",
   "execution_count": null,
   "id": "08508db3-f2b6-40e7-bc8b-072b87701a64",
   "metadata": {},
   "outputs": [],
   "source": [
    "data['Wind Speed_km/h'].unique()"
   ]
  },
  {
   "cell_type": "markdown",
   "id": "03952d84-edee-4a63-a2ac-5a47807252d7",
   "metadata": {},
   "source": [
    "# Q) 2. Find the number of times when the 'Weather is exactly Clear'.\n",
    "\n"
   ]
  },
  {
   "cell_type": "markdown",
   "id": "cd598601-99f6-40cb-af1a-f1222383c7ac",
   "metadata": {},
   "source": [
    "## value_counts()"
   ]
  },
  {
   "cell_type": "code",
   "execution_count": null,
   "id": "fff2844c-de39-484d-8fe8-713646d19631",
   "metadata": {},
   "outputs": [],
   "source": [
    "# data.Weather.value_counts()\n",
    "# hoặc \n",
    "data['Weather'].value_counts()"
   ]
  },
  {
   "cell_type": "markdown",
   "id": "5366a44a-99bb-4c3f-89b5-d0c30c33396a",
   "metadata": {},
   "source": [
    "## Filtering\n"
   ]
  },
  {
   "cell_type": "code",
   "execution_count": 81,
   "id": "23a63413-9df7-4ec0-83db-086673d631cf",
   "metadata": {},
   "outputs": [
    {
     "data": {
      "text/html": [
       "<div>\n",
       "<style scoped>\n",
       "    .dataframe tbody tr th:only-of-type {\n",
       "        vertical-align: middle;\n",
       "    }\n",
       "\n",
       "    .dataframe tbody tr th {\n",
       "        vertical-align: top;\n",
       "    }\n",
       "\n",
       "    .dataframe thead th {\n",
       "        text-align: right;\n",
       "    }\n",
       "</style>\n",
       "<table border=\"1\" class=\"dataframe\">\n",
       "  <thead>\n",
       "    <tr style=\"text-align: right;\">\n",
       "      <th></th>\n",
       "      <th>Date/Time</th>\n",
       "      <th>Temp_C</th>\n",
       "      <th>Dew Point Temp_C</th>\n",
       "      <th>Rel Hum_%</th>\n",
       "      <th>Wind Speed_km/h</th>\n",
       "      <th>Visibility_km</th>\n",
       "      <th>Press_kPa</th>\n",
       "      <th>Weather</th>\n",
       "    </tr>\n",
       "  </thead>\n",
       "  <tbody>\n",
       "    <tr>\n",
       "      <th>67</th>\n",
       "      <td>1/3/2012 19:00</td>\n",
       "      <td>-16.9</td>\n",
       "      <td>-24.8</td>\n",
       "      <td>50</td>\n",
       "      <td>24</td>\n",
       "      <td>25.0</td>\n",
       "      <td>101.74</td>\n",
       "      <td>Clear</td>\n",
       "    </tr>\n",
       "    <tr>\n",
       "      <th>114</th>\n",
       "      <td>1/5/2012 18:00</td>\n",
       "      <td>-7.1</td>\n",
       "      <td>-14.4</td>\n",
       "      <td>56</td>\n",
       "      <td>11</td>\n",
       "      <td>25.0</td>\n",
       "      <td>100.71</td>\n",
       "      <td>Clear</td>\n",
       "    </tr>\n",
       "    <tr>\n",
       "      <th>115</th>\n",
       "      <td>1/5/2012 19:00</td>\n",
       "      <td>-9.2</td>\n",
       "      <td>-15.4</td>\n",
       "      <td>61</td>\n",
       "      <td>7</td>\n",
       "      <td>25.0</td>\n",
       "      <td>100.80</td>\n",
       "      <td>Clear</td>\n",
       "    </tr>\n",
       "    <tr>\n",
       "      <th>116</th>\n",
       "      <td>1/5/2012 20:00</td>\n",
       "      <td>-9.8</td>\n",
       "      <td>-15.7</td>\n",
       "      <td>62</td>\n",
       "      <td>9</td>\n",
       "      <td>25.0</td>\n",
       "      <td>100.83</td>\n",
       "      <td>Clear</td>\n",
       "    </tr>\n",
       "    <tr>\n",
       "      <th>117</th>\n",
       "      <td>1/5/2012 21:00</td>\n",
       "      <td>-9.0</td>\n",
       "      <td>-14.8</td>\n",
       "      <td>63</td>\n",
       "      <td>13</td>\n",
       "      <td>25.0</td>\n",
       "      <td>100.83</td>\n",
       "      <td>Clear</td>\n",
       "    </tr>\n",
       "    <tr>\n",
       "      <th>...</th>\n",
       "      <td>...</td>\n",
       "      <td>...</td>\n",
       "      <td>...</td>\n",
       "      <td>...</td>\n",
       "      <td>...</td>\n",
       "      <td>...</td>\n",
       "      <td>...</td>\n",
       "      <td>...</td>\n",
       "    </tr>\n",
       "    <tr>\n",
       "      <th>8646</th>\n",
       "      <td>12/26/2012 6:00</td>\n",
       "      <td>-13.4</td>\n",
       "      <td>-14.8</td>\n",
       "      <td>89</td>\n",
       "      <td>4</td>\n",
       "      <td>25.0</td>\n",
       "      <td>102.47</td>\n",
       "      <td>Clear</td>\n",
       "    </tr>\n",
       "    <tr>\n",
       "      <th>8698</th>\n",
       "      <td>12/28/2012 10:00</td>\n",
       "      <td>-6.1</td>\n",
       "      <td>-8.6</td>\n",
       "      <td>82</td>\n",
       "      <td>19</td>\n",
       "      <td>24.1</td>\n",
       "      <td>101.27</td>\n",
       "      <td>Clear</td>\n",
       "    </tr>\n",
       "    <tr>\n",
       "      <th>8713</th>\n",
       "      <td>12/29/2012 1:00</td>\n",
       "      <td>-11.9</td>\n",
       "      <td>-13.6</td>\n",
       "      <td>87</td>\n",
       "      <td>11</td>\n",
       "      <td>25.0</td>\n",
       "      <td>101.31</td>\n",
       "      <td>Clear</td>\n",
       "    </tr>\n",
       "    <tr>\n",
       "      <th>8714</th>\n",
       "      <td>12/29/2012 2:00</td>\n",
       "      <td>-11.8</td>\n",
       "      <td>-13.1</td>\n",
       "      <td>90</td>\n",
       "      <td>13</td>\n",
       "      <td>25.0</td>\n",
       "      <td>101.33</td>\n",
       "      <td>Clear</td>\n",
       "    </tr>\n",
       "    <tr>\n",
       "      <th>8756</th>\n",
       "      <td>12/30/2012 20:00</td>\n",
       "      <td>-13.8</td>\n",
       "      <td>-16.5</td>\n",
       "      <td>80</td>\n",
       "      <td>24</td>\n",
       "      <td>25.0</td>\n",
       "      <td>101.52</td>\n",
       "      <td>Clear</td>\n",
       "    </tr>\n",
       "  </tbody>\n",
       "</table>\n",
       "<p>1326 rows × 8 columns</p>\n",
       "</div>"
      ],
      "text/plain": [
       "             Date/Time  Temp_C  Dew Point Temp_C  Rel Hum_%  Wind Speed_km/h  \\\n",
       "67      1/3/2012 19:00   -16.9             -24.8         50               24   \n",
       "114     1/5/2012 18:00    -7.1             -14.4         56               11   \n",
       "115     1/5/2012 19:00    -9.2             -15.4         61                7   \n",
       "116     1/5/2012 20:00    -9.8             -15.7         62                9   \n",
       "117     1/5/2012 21:00    -9.0             -14.8         63               13   \n",
       "...                ...     ...               ...        ...              ...   \n",
       "8646   12/26/2012 6:00   -13.4             -14.8         89                4   \n",
       "8698  12/28/2012 10:00    -6.1              -8.6         82               19   \n",
       "8713   12/29/2012 1:00   -11.9             -13.6         87               11   \n",
       "8714   12/29/2012 2:00   -11.8             -13.1         90               13   \n",
       "8756  12/30/2012 20:00   -13.8             -16.5         80               24   \n",
       "\n",
       "      Visibility_km  Press_kPa Weather  \n",
       "67             25.0     101.74   Clear  \n",
       "114            25.0     100.71   Clear  \n",
       "115            25.0     100.80   Clear  \n",
       "116            25.0     100.83   Clear  \n",
       "117            25.0     100.83   Clear  \n",
       "...             ...        ...     ...  \n",
       "8646           25.0     102.47   Clear  \n",
       "8698           24.1     101.27   Clear  \n",
       "8713           25.0     101.31   Clear  \n",
       "8714           25.0     101.33   Clear  \n",
       "8756           25.0     101.52   Clear  \n",
       "\n",
       "[1326 rows x 8 columns]"
      ]
     },
     "execution_count": 81,
     "metadata": {},
     "output_type": "execute_result"
    }
   ],
   "source": [
    "# data.head(2)\n",
    "# data.Weather == 'Clear'\n",
    "\n",
    "data [data.Weather == 'Clear']\n"
   ]
  },
  {
   "cell_type": "markdown",
   "id": "13e5a99e-f4de-4b12-88be-10f8520ed506",
   "metadata": {},
   "source": [
    "## groupby()"
   ]
  },
  {
   "cell_type": "code",
   "execution_count": 82,
   "id": "6e413bce-b1b6-447e-b796-a4002217020f",
   "metadata": {},
   "outputs": [
    {
     "data": {
      "text/html": [
       "<div>\n",
       "<style scoped>\n",
       "    .dataframe tbody tr th:only-of-type {\n",
       "        vertical-align: middle;\n",
       "    }\n",
       "\n",
       "    .dataframe tbody tr th {\n",
       "        vertical-align: top;\n",
       "    }\n",
       "\n",
       "    .dataframe thead th {\n",
       "        text-align: right;\n",
       "    }\n",
       "</style>\n",
       "<table border=\"1\" class=\"dataframe\">\n",
       "  <thead>\n",
       "    <tr style=\"text-align: right;\">\n",
       "      <th></th>\n",
       "      <th>Date/Time</th>\n",
       "      <th>Temp_C</th>\n",
       "      <th>Dew Point Temp_C</th>\n",
       "      <th>Rel Hum_%</th>\n",
       "      <th>Wind Speed_km/h</th>\n",
       "      <th>Visibility_km</th>\n",
       "      <th>Press_kPa</th>\n",
       "      <th>Weather</th>\n",
       "    </tr>\n",
       "  </thead>\n",
       "  <tbody>\n",
       "    <tr>\n",
       "      <th>67</th>\n",
       "      <td>1/3/2012 19:00</td>\n",
       "      <td>-16.9</td>\n",
       "      <td>-24.8</td>\n",
       "      <td>50</td>\n",
       "      <td>24</td>\n",
       "      <td>25.0</td>\n",
       "      <td>101.74</td>\n",
       "      <td>Clear</td>\n",
       "    </tr>\n",
       "    <tr>\n",
       "      <th>114</th>\n",
       "      <td>1/5/2012 18:00</td>\n",
       "      <td>-7.1</td>\n",
       "      <td>-14.4</td>\n",
       "      <td>56</td>\n",
       "      <td>11</td>\n",
       "      <td>25.0</td>\n",
       "      <td>100.71</td>\n",
       "      <td>Clear</td>\n",
       "    </tr>\n",
       "    <tr>\n",
       "      <th>115</th>\n",
       "      <td>1/5/2012 19:00</td>\n",
       "      <td>-9.2</td>\n",
       "      <td>-15.4</td>\n",
       "      <td>61</td>\n",
       "      <td>7</td>\n",
       "      <td>25.0</td>\n",
       "      <td>100.80</td>\n",
       "      <td>Clear</td>\n",
       "    </tr>\n",
       "    <tr>\n",
       "      <th>116</th>\n",
       "      <td>1/5/2012 20:00</td>\n",
       "      <td>-9.8</td>\n",
       "      <td>-15.7</td>\n",
       "      <td>62</td>\n",
       "      <td>9</td>\n",
       "      <td>25.0</td>\n",
       "      <td>100.83</td>\n",
       "      <td>Clear</td>\n",
       "    </tr>\n",
       "    <tr>\n",
       "      <th>117</th>\n",
       "      <td>1/5/2012 21:00</td>\n",
       "      <td>-9.0</td>\n",
       "      <td>-14.8</td>\n",
       "      <td>63</td>\n",
       "      <td>13</td>\n",
       "      <td>25.0</td>\n",
       "      <td>100.83</td>\n",
       "      <td>Clear</td>\n",
       "    </tr>\n",
       "    <tr>\n",
       "      <th>...</th>\n",
       "      <td>...</td>\n",
       "      <td>...</td>\n",
       "      <td>...</td>\n",
       "      <td>...</td>\n",
       "      <td>...</td>\n",
       "      <td>...</td>\n",
       "      <td>...</td>\n",
       "      <td>...</td>\n",
       "    </tr>\n",
       "    <tr>\n",
       "      <th>8646</th>\n",
       "      <td>12/26/2012 6:00</td>\n",
       "      <td>-13.4</td>\n",
       "      <td>-14.8</td>\n",
       "      <td>89</td>\n",
       "      <td>4</td>\n",
       "      <td>25.0</td>\n",
       "      <td>102.47</td>\n",
       "      <td>Clear</td>\n",
       "    </tr>\n",
       "    <tr>\n",
       "      <th>8698</th>\n",
       "      <td>12/28/2012 10:00</td>\n",
       "      <td>-6.1</td>\n",
       "      <td>-8.6</td>\n",
       "      <td>82</td>\n",
       "      <td>19</td>\n",
       "      <td>24.1</td>\n",
       "      <td>101.27</td>\n",
       "      <td>Clear</td>\n",
       "    </tr>\n",
       "    <tr>\n",
       "      <th>8713</th>\n",
       "      <td>12/29/2012 1:00</td>\n",
       "      <td>-11.9</td>\n",
       "      <td>-13.6</td>\n",
       "      <td>87</td>\n",
       "      <td>11</td>\n",
       "      <td>25.0</td>\n",
       "      <td>101.31</td>\n",
       "      <td>Clear</td>\n",
       "    </tr>\n",
       "    <tr>\n",
       "      <th>8714</th>\n",
       "      <td>12/29/2012 2:00</td>\n",
       "      <td>-11.8</td>\n",
       "      <td>-13.1</td>\n",
       "      <td>90</td>\n",
       "      <td>13</td>\n",
       "      <td>25.0</td>\n",
       "      <td>101.33</td>\n",
       "      <td>Clear</td>\n",
       "    </tr>\n",
       "    <tr>\n",
       "      <th>8756</th>\n",
       "      <td>12/30/2012 20:00</td>\n",
       "      <td>-13.8</td>\n",
       "      <td>-16.5</td>\n",
       "      <td>80</td>\n",
       "      <td>24</td>\n",
       "      <td>25.0</td>\n",
       "      <td>101.52</td>\n",
       "      <td>Clear</td>\n",
       "    </tr>\n",
       "  </tbody>\n",
       "</table>\n",
       "<p>1326 rows × 8 columns</p>\n",
       "</div>"
      ],
      "text/plain": [
       "             Date/Time  Temp_C  Dew Point Temp_C  Rel Hum_%  Wind Speed_km/h  \\\n",
       "67      1/3/2012 19:00   -16.9             -24.8         50               24   \n",
       "114     1/5/2012 18:00    -7.1             -14.4         56               11   \n",
       "115     1/5/2012 19:00    -9.2             -15.4         61                7   \n",
       "116     1/5/2012 20:00    -9.8             -15.7         62                9   \n",
       "117     1/5/2012 21:00    -9.0             -14.8         63               13   \n",
       "...                ...     ...               ...        ...              ...   \n",
       "8646   12/26/2012 6:00   -13.4             -14.8         89                4   \n",
       "8698  12/28/2012 10:00    -6.1              -8.6         82               19   \n",
       "8713   12/29/2012 1:00   -11.9             -13.6         87               11   \n",
       "8714   12/29/2012 2:00   -11.8             -13.1         90               13   \n",
       "8756  12/30/2012 20:00   -13.8             -16.5         80               24   \n",
       "\n",
       "      Visibility_km  Press_kPa Weather  \n",
       "67             25.0     101.74   Clear  \n",
       "114            25.0     100.71   Clear  \n",
       "115            25.0     100.80   Clear  \n",
       "116            25.0     100.83   Clear  \n",
       "117            25.0     100.83   Clear  \n",
       "...             ...        ...     ...  \n",
       "8646           25.0     102.47   Clear  \n",
       "8698           24.1     101.27   Clear  \n",
       "8713           25.0     101.31   Clear  \n",
       "8714           25.0     101.33   Clear  \n",
       "8756           25.0     101.52   Clear  \n",
       "\n",
       "[1326 rows x 8 columns]"
      ]
     },
     "execution_count": 82,
     "metadata": {},
     "output_type": "execute_result"
    }
   ],
   "source": [
    "# data.head(2)\n",
    "data.groupby('Weather').get_group('Clear')"
   ]
  },
  {
   "cell_type": "code",
   "execution_count": null,
   "id": "149812f4-7992-4a08-966f-94cf0829f401",
   "metadata": {},
   "outputs": [],
   "source": []
  },
  {
   "cell_type": "markdown",
   "id": "d47c29e5-902b-4f21-b616-20ad9f2a7b0a",
   "metadata": {},
   "source": [
    "# Q) 3. Find the number of times when the 'Wind Speed was exactly 4 km/h'.\n"
   ]
  },
  {
   "cell_type": "code",
   "execution_count": null,
   "id": "0ea0a5cf-5ee7-491b-8858-d3289e2c2826",
   "metadata": {},
   "outputs": [],
   "source": [
    "data.head(2)"
   ]
  },
  {
   "cell_type": "code",
   "execution_count": null,
   "id": "1d61223b-11ab-4708-8fda-00466c69eea8",
   "metadata": {},
   "outputs": [],
   "source": [
    "# data['Wind Speed_km/h'] == 4\n",
    "data[data['Wind Speed_km/h'] == 4]"
   ]
  },
  {
   "cell_type": "code",
   "execution_count": null,
   "id": "40de79fa-8d0a-49da-90cd-1029573ff7b8",
   "metadata": {},
   "outputs": [],
   "source": []
  },
  {
   "cell_type": "markdown",
   "id": "d1f4b9d0-7a13-42b7-a93f-f545311bae0f",
   "metadata": {},
   "source": [
    "# Q) 4. Find out all the Null Values in the data.\n",
    "\n"
   ]
  },
  {
   "cell_type": "code",
   "execution_count": null,
   "id": "9bd16900-5b7c-4a27-ba7e-014d1b9621d2",
   "metadata": {},
   "outputs": [],
   "source": [
    "data.isnull().sum()"
   ]
  },
  {
   "cell_type": "code",
   "execution_count": null,
   "id": "8c392996-993f-446e-b6a9-729111b91d89",
   "metadata": {},
   "outputs": [],
   "source": [
    "data.notnull().sum()"
   ]
  },
  {
   "cell_type": "markdown",
   "id": "159acf4e-1773-4c20-a501-4b232afbde51",
   "metadata": {},
   "source": [
    "# Q. 5) Rename the column name 'Weather' of the dataframe to 'Weather Condition'.\n",
    "\n"
   ]
  },
  {
   "cell_type": "code",
   "execution_count": null,
   "id": "d7e888c5-70f7-4351-8ebf-6a369c220c82",
   "metadata": {},
   "outputs": [],
   "source": [
    "data.head(2)"
   ]
  },
  {
   "cell_type": "code",
   "execution_count": null,
   "id": "9eefee73-6d87-4b89-acd4-2444868edb6a",
   "metadata": {},
   "outputs": [],
   "source": [
    "data.rename(columns = {'Weather':'weather'}, inplace = True)"
   ]
  },
  {
   "cell_type": "code",
   "execution_count": null,
   "id": "4bc7e32c-c693-4a66-ab9e-cb4b9a21a32b",
   "metadata": {},
   "outputs": [],
   "source": [
    "data.head(2)"
   ]
  },
  {
   "cell_type": "markdown",
   "id": "a793a7cb-8218-4a10-a778-dd481de0d69a",
   "metadata": {},
   "source": [
    "# Q.6) What is the mean 'Visibility'? \n",
    " \n"
   ]
  },
  {
   "cell_type": "code",
   "execution_count": null,
   "id": "2140d44c-c496-4dbb-a574-a34c0a4f2de0",
   "metadata": {},
   "outputs": [],
   "source": [
    "data.head(2)"
   ]
  },
  {
   "cell_type": "code",
   "execution_count": null,
   "id": "9aee0ff8-c50c-4cf4-8e04-984292aae90d",
   "metadata": {},
   "outputs": [],
   "source": [
    "data.Visibility_km.mean() # data['Visibility_km'].mean()"
   ]
  },
  {
   "cell_type": "markdown",
   "id": "38845ac3-0453-4d96-a4a0-efce7c4ef375",
   "metadata": {},
   "source": [
    "# Q. 7) What is the Standard Deviation of 'Pressure' in this data?"
   ]
  },
  {
   "cell_type": "code",
   "execution_count": null,
   "id": "495d55de-d251-4c6c-914e-7e462a974ca9",
   "metadata": {},
   "outputs": [],
   "source": [
    "data.Press_kPa.std() # data['Press_kPa'].std()"
   ]
  },
  {
   "cell_type": "code",
   "execution_count": null,
   "id": "61823144-ee76-4ccf-9753-c5700507f10f",
   "metadata": {},
   "outputs": [],
   "source": []
  },
  {
   "cell_type": "markdown",
   "id": "927f5076-649a-4ce0-993f-f22a1f49276c",
   "metadata": {},
   "source": [
    "# Q. 8) Whats is the Variance of 'Relative Humidity' in this data ?\n"
   ]
  },
  {
   "cell_type": "code",
   "execution_count": null,
   "id": "d2c4035f-9b0c-4fb4-9775-4a85e9540c6d",
   "metadata": {},
   "outputs": [],
   "source": [
    "data['Rel Hum_%'].var()"
   ]
  },
  {
   "cell_type": "markdown",
   "id": "4ec8bc17-eaba-4964-baef-bd3f2419cb2f",
   "metadata": {},
   "source": [
    "# Q. 9) Find all instances when 'Snow' was recorded."
   ]
  },
  {
   "cell_type": "markdown",
   "id": "9a8f850a-843b-4be5-8642-3cffc34bf790",
   "metadata": {},
   "source": [
    "## value_counts()"
   ]
  },
  {
   "cell_type": "code",
   "execution_count": null,
   "id": "e6dba5db-8c5b-42d0-930e-ab215e28fdd2",
   "metadata": {},
   "outputs": [],
   "source": [
    "data.head()\n",
    "data['weather'].value_counts()"
   ]
  },
  {
   "cell_type": "markdown",
   "id": "64b22cc2-bc90-4368-838e-08ad59cb9d79",
   "metadata": {},
   "source": [
    "## filtering "
   ]
  },
  {
   "cell_type": "code",
   "execution_count": null,
   "id": "0735eb6b-902f-4bef-bd78-9c41592f50ad",
   "metadata": {},
   "outputs": [],
   "source": [
    "# data['weather'] == 'Snow'\n",
    "data[data['weather'] == 'Snow']"
   ]
  },
  {
   "cell_type": "markdown",
   "id": "e8305a95-90b6-4def-bb49-415a381201a5",
   "metadata": {},
   "source": [
    "## str.contains"
   ]
  },
  {
   "cell_type": "code",
   "execution_count": null,
   "id": "1331736f-3958-46e4-94a1-789cc8ed86dc",
   "metadata": {},
   "outputs": [],
   "source": [
    "data [data['weather'].str.contains('Snow')].head(10)"
   ]
  },
  {
   "cell_type": "markdown",
   "id": "72bd92b5-f726-401c-9ba8-8b13e388bd5e",
   "metadata": {},
   "source": [
    "# Q. 10) Find all instances when 'Wind Speed is above 24' and 'Visibility isate Window 25'.\n",
    "\n"
   ]
  },
  {
   "cell_type": "code",
   "execution_count": null,
   "id": "25708d3a-c8d6-4a5d-9b9d-63cbca09bd5d",
   "metadata": {},
   "outputs": [],
   "source": [
    "data.head()"
   ]
  },
  {
   "cell_type": "code",
   "execution_count": null,
   "id": "de60fcff-fabf-4e18-a143-0ee3a9017775",
   "metadata": {},
   "outputs": [],
   "source": [
    "data[(data['Wind Speed_km/h'] > 24)  & (data['Visibility_km'] ==25)]"
   ]
  },
  {
   "cell_type": "markdown",
   "id": "e631ec68-aed6-49cb-9cc2-96b5ac4e6bb8",
   "metadata": {},
   "source": [
    "# Q. 11) What is the Mean value of each column against each 'Weather Conditon' ?"
   ]
  },
  {
   "cell_type": "code",
   "execution_count": null,
   "id": "d522b880-5632-4ff6-b6e0-5be4ab9aa42d",
   "metadata": {},
   "outputs": [],
   "source": [
    "data.head(2)"
   ]
  },
  {
   "cell_type": "code",
   "execution_count": null,
   "id": "28ec1471-9024-439a-9eda-79c056fd7966",
   "metadata": {},
   "outputs": [],
   "source": [
    "# Assuming your DataFrame is named 'data'\n",
    "data['Date/Time'] = pd.to_datetime(data['Date/Time'])\n",
    "data.set_index('Date/Time', inplace=True)"
   ]
  },
  {
   "cell_type": "code",
   "execution_count": null,
   "id": "816323a1-868e-4592-9794-bf8f98363d4e",
   "metadata": {},
   "outputs": [],
   "source": [
    "# Calculation mean\n",
    "data.groupby('weather').mean()"
   ]
  },
  {
   "cell_type": "markdown",
   "id": "b5269842-bdc2-431e-b847-6909ba4185a2",
   "metadata": {},
   "source": [
    "# Q. 12) What is the Minimum & Maximum value of each column against each 'Weather Conditon'?"
   ]
  },
  {
   "cell_type": "code",
   "execution_count": null,
   "id": "ba209c78-973e-4e45-9411-ecb5e1349848",
   "metadata": {},
   "outputs": [],
   "source": [
    "data.head(2)"
   ]
  },
  {
   "cell_type": "code",
   "execution_count": null,
   "id": "8c4f7cd9-78b6-4016-8909-764c140e5957",
   "metadata": {},
   "outputs": [],
   "source": [
    "data.groupby('weather').min()"
   ]
  },
  {
   "cell_type": "code",
   "execution_count": null,
   "id": "7b390f87-1738-48c7-9074-0b248d280204",
   "metadata": {},
   "outputs": [],
   "source": [
    "data.groupby('weather').max()"
   ]
  },
  {
   "cell_type": "markdown",
   "id": "731b45bd-2f6a-4286-a6e9-c0f2c173e45c",
   "metadata": {},
   "source": [
    "# Q. 13) Show all the Records where Weather Condition is Fog."
   ]
  },
  {
   "cell_type": "code",
   "execution_count": null,
   "id": "d7ee785c-79a6-4ece-b889-43f6efbdccab",
   "metadata": {},
   "outputs": [],
   "source": [
    "data.head(2)"
   ]
  },
  {
   "cell_type": "code",
   "execution_count": null,
   "id": "33a152c1-95ee-4861-bc06-6fc9311521cc",
   "metadata": {},
   "outputs": [],
   "source": [
    "foggy_data = data[data['weather'] == 'Fog']\n",
    "foggy_data"
   ]
  },
  {
   "cell_type": "markdown",
   "id": "08d44aab-85b7-433d-a8ef-6099e412aed2",
   "metadata": {},
   "source": [
    "# Q. 14) Find all instances when 'Weather is Clear' or 'Visibility is above 40'."
   ]
  },
  {
   "cell_type": "code",
   "execution_count": null,
   "id": "5e272e97-900b-4574-ac9c-8b844cc50b77",
   "metadata": {},
   "outputs": [],
   "source": [
    "data[data.weather == 'Clear'].head(5)"
   ]
  },
  {
   "cell_type": "code",
   "execution_count": null,
   "id": "63057e41-f46d-4074-979b-64c0e2c2e667",
   "metadata": {},
   "outputs": [],
   "source": [
    "condition = (data['weather'] == 'Clear') | (data['Visibility_km']>40)\n",
    "data[condition]"
   ]
  },
  {
   "cell_type": "markdown",
   "id": "72305ed1-d543-4d5c-82c2-a2eeee3c3235",
   "metadata": {},
   "source": [
    "# Q. 15) Find all instances when :"
   ]
  },
  {
   "cell_type": "markdown",
   "id": "7f0866ab-173f-49a9-8e33-00f3796b567d",
   "metadata": {},
   "source": [
    "A. 'Weather is Clear' and 'Relative Humidity is greater than 50'\n",
    "\n",
    "or\n",
    "\n",
    "B. 'Visibility is above 40'"
   ]
  },
  {
   "cell_type": "code",
   "execution_count": null,
   "id": "1d51512a-0d78-4ec0-b688-a9c0c773024d",
   "metadata": {},
   "outputs": [],
   "source": [
    "data.head(2)"
   ]
  },
  {
   "cell_type": "code",
   "execution_count": null,
   "id": "ce2f9788-6e96-4ad6-a740-6b9824446740",
   "metadata": {},
   "outputs": [],
   "source": [
    "condition = (data['weather'] == 'Clear') & (data['Rel Hum_%'] >50) | (data['Visibility_km'] >40)\n",
    "data[condition]"
   ]
  },
  {
   "cell_type": "code",
   "execution_count": null,
   "id": "8022f39a-44d9-48e0-bf3d-2a97ec866819",
   "metadata": {},
   "outputs": [],
   "source": []
  },
  {
   "cell_type": "code",
   "execution_count": null,
   "id": "a6acbabb-287e-41b4-a024-5468b5c83620",
   "metadata": {},
   "outputs": [],
   "source": []
  },
  {
   "cell_type": "code",
   "execution_count": null,
   "id": "9b3fdb05-ada2-4fbb-9047-989c4506461c",
   "metadata": {},
   "outputs": [],
   "source": []
  },
  {
   "cell_type": "code",
   "execution_count": null,
   "id": "aaab61a0-6f1c-44c2-bad7-befd42b772f7",
   "metadata": {},
   "outputs": [],
   "source": []
  }
 ],
 "metadata": {
  "kernelspec": {
   "display_name": "Python 3 (ipykernel)",
   "language": "python",
   "name": "python3"
  },
  "language_info": {
   "codemirror_mode": {
    "name": "ipython",
    "version": 3
   },
   "file_extension": ".py",
   "mimetype": "text/x-python",
   "name": "python",
   "nbconvert_exporter": "python",
   "pygments_lexer": "ipython3",
   "version": "3.12.6"
  }
 },
 "nbformat": 4,
 "nbformat_minor": 5
}
